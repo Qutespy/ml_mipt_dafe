{
 "cells": [
  {
   "cell_type": "markdown",
   "id": "a4f840a1-2549-4975-b6a5-41dba3e0d4e3",
   "metadata": {
    "id": "AGf_xvZiT0Ww"
   },
   "source": [
    "# Домашнее задание № 0\n",
    "Вам необходимо провести анализ данных и с помощью него ответить на поставленные вопросы. \n",
    "\n",
    "# Исходные данные\n",
    "Этот набор данных представляет собой описание около 1 миллиона треков с платформы Spotify. Скачайте датасет и ознакомьтесь с описанием данных в [источнике](https://www.kaggle.com/datasets/amitanshjoshi/spotify-1million-tracks/data)."
   ]
  },
  {
   "cell_type": "code",
   "execution_count": 97,
   "id": "4a5891dd-779a-4815-930e-411c69cd8033",
   "metadata": {
    "_cell_guid": "87372d85-e9ac-b3b3-c25d-33dfb357ccd8",
    "id": "pQ5OrqpATtVl"
   },
   "outputs": [],
   "source": [
    "import pandas as pd"
   ]
  },
  {
   "cell_type": "code",
   "execution_count": 98,
   "id": "dc6f9f35-0cff-4ffb-96f6-06269c8764ca",
   "metadata": {
    "id": "cE9FdACVcBHd"
   },
   "outputs": [],
   "source": [
    "# Читаем данные\n",
    "path = 'spotify_data.csv'\n",
    "df = pd.read_csv(path, index_col=0)"
   ]
  },
  {
   "cell_type": "code",
   "execution_count": 99,
   "id": "c48be23c-d167-4706-9038-cd18db108f72",
   "metadata": {},
   "outputs": [
    {
     "data": {
      "text/html": [
       "<div>\n",
       "<style scoped>\n",
       "    .dataframe tbody tr th:only-of-type {\n",
       "        vertical-align: middle;\n",
       "    }\n",
       "\n",
       "    .dataframe tbody tr th {\n",
       "        vertical-align: top;\n",
       "    }\n",
       "\n",
       "    .dataframe thead th {\n",
       "        text-align: right;\n",
       "    }\n",
       "</style>\n",
       "<table border=\"1\" class=\"dataframe\">\n",
       "  <thead>\n",
       "    <tr style=\"text-align: right;\">\n",
       "      <th></th>\n",
       "      <th>751286</th>\n",
       "      <th>979841</th>\n",
       "      <th>787736</th>\n",
       "    </tr>\n",
       "  </thead>\n",
       "  <tbody>\n",
       "    <tr>\n",
       "      <th>artist_name</th>\n",
       "      <td>Waldeck</td>\n",
       "      <td>Diana Ross &amp; The Supremes</td>\n",
       "      <td>Jaya The Cat</td>\n",
       "    </tr>\n",
       "    <tr>\n",
       "      <th>track_name</th>\n",
       "      <td>Slowly</td>\n",
       "      <td>You Can't Hurry Love - Alternate Vocal</td>\n",
       "      <td>State of Emergency</td>\n",
       "    </tr>\n",
       "    <tr>\n",
       "      <th>track_id</th>\n",
       "      <td>5KH6F8V8YQBZzdCj6MsTqo</td>\n",
       "      <td>3NLsv7HigpQ1dyMMLZ6H7n</td>\n",
       "      <td>3Kz2aiqCBaAsrOsBa7sudd</td>\n",
       "    </tr>\n",
       "    <tr>\n",
       "      <th>popularity</th>\n",
       "      <td>15</td>\n",
       "      <td>31</td>\n",
       "      <td>12</td>\n",
       "    </tr>\n",
       "    <tr>\n",
       "      <th>year</th>\n",
       "      <td>2001</td>\n",
       "      <td>2004</td>\n",
       "      <td>2001</td>\n",
       "    </tr>\n",
       "    <tr>\n",
       "      <th>genre</th>\n",
       "      <td>electro</td>\n",
       "      <td>soul</td>\n",
       "      <td>ska</td>\n",
       "    </tr>\n",
       "    <tr>\n",
       "      <th>danceability</th>\n",
       "      <td>0.707</td>\n",
       "      <td>0.699</td>\n",
       "      <td>0.62</td>\n",
       "    </tr>\n",
       "    <tr>\n",
       "      <th>energy</th>\n",
       "      <td>0.449</td>\n",
       "      <td>0.74</td>\n",
       "      <td>0.948</td>\n",
       "    </tr>\n",
       "    <tr>\n",
       "      <th>key</th>\n",
       "      <td>10</td>\n",
       "      <td>7</td>\n",
       "      <td>2</td>\n",
       "    </tr>\n",
       "    <tr>\n",
       "      <th>loudness</th>\n",
       "      <td>-11.755</td>\n",
       "      <td>-5.192</td>\n",
       "      <td>-5.558</td>\n",
       "    </tr>\n",
       "    <tr>\n",
       "      <th>mode</th>\n",
       "      <td>1</td>\n",
       "      <td>0</td>\n",
       "      <td>1</td>\n",
       "    </tr>\n",
       "    <tr>\n",
       "      <th>speechiness</th>\n",
       "      <td>0.0347</td>\n",
       "      <td>0.0302</td>\n",
       "      <td>0.0558</td>\n",
       "    </tr>\n",
       "    <tr>\n",
       "      <th>acousticness</th>\n",
       "      <td>0.323</td>\n",
       "      <td>0.188</td>\n",
       "      <td>0.0079</td>\n",
       "    </tr>\n",
       "    <tr>\n",
       "      <th>instrumentalness</th>\n",
       "      <td>0.882</td>\n",
       "      <td>0.0</td>\n",
       "      <td>0.000035</td>\n",
       "    </tr>\n",
       "    <tr>\n",
       "      <th>liveness</th>\n",
       "      <td>0.0924</td>\n",
       "      <td>0.114</td>\n",
       "      <td>0.0865</td>\n",
       "    </tr>\n",
       "    <tr>\n",
       "      <th>valence</th>\n",
       "      <td>0.372</td>\n",
       "      <td>0.711</td>\n",
       "      <td>0.665</td>\n",
       "    </tr>\n",
       "    <tr>\n",
       "      <th>tempo</th>\n",
       "      <td>131.897</td>\n",
       "      <td>96.606</td>\n",
       "      <td>105.854</td>\n",
       "    </tr>\n",
       "    <tr>\n",
       "      <th>duration_ms</th>\n",
       "      <td>289707</td>\n",
       "      <td>200293</td>\n",
       "      <td>182693</td>\n",
       "    </tr>\n",
       "    <tr>\n",
       "      <th>time_signature</th>\n",
       "      <td>4</td>\n",
       "      <td>4</td>\n",
       "      <td>4</td>\n",
       "    </tr>\n",
       "  </tbody>\n",
       "</table>\n",
       "</div>"
      ],
      "text/plain": [
       "                                  751286  \\\n",
       "artist_name                      Waldeck   \n",
       "track_name                        Slowly   \n",
       "track_id          5KH6F8V8YQBZzdCj6MsTqo   \n",
       "popularity                            15   \n",
       "year                                2001   \n",
       "genre                            electro   \n",
       "danceability                       0.707   \n",
       "energy                             0.449   \n",
       "key                                   10   \n",
       "loudness                         -11.755   \n",
       "mode                                   1   \n",
       "speechiness                       0.0347   \n",
       "acousticness                       0.323   \n",
       "instrumentalness                   0.882   \n",
       "liveness                          0.0924   \n",
       "valence                            0.372   \n",
       "tempo                            131.897   \n",
       "duration_ms                       289707   \n",
       "time_signature                         4   \n",
       "\n",
       "                                                  979841  \\\n",
       "artist_name                    Diana Ross & The Supremes   \n",
       "track_name        You Can't Hurry Love - Alternate Vocal   \n",
       "track_id                          3NLsv7HigpQ1dyMMLZ6H7n   \n",
       "popularity                                            31   \n",
       "year                                                2004   \n",
       "genre                                               soul   \n",
       "danceability                                       0.699   \n",
       "energy                                              0.74   \n",
       "key                                                    7   \n",
       "loudness                                          -5.192   \n",
       "mode                                                   0   \n",
       "speechiness                                       0.0302   \n",
       "acousticness                                       0.188   \n",
       "instrumentalness                                     0.0   \n",
       "liveness                                           0.114   \n",
       "valence                                            0.711   \n",
       "tempo                                             96.606   \n",
       "duration_ms                                       200293   \n",
       "time_signature                                         4   \n",
       "\n",
       "                                  787736  \n",
       "artist_name                 Jaya The Cat  \n",
       "track_name            State of Emergency  \n",
       "track_id          3Kz2aiqCBaAsrOsBa7sudd  \n",
       "popularity                            12  \n",
       "year                                2001  \n",
       "genre                                ska  \n",
       "danceability                        0.62  \n",
       "energy                             0.948  \n",
       "key                                    2  \n",
       "loudness                          -5.558  \n",
       "mode                                   1  \n",
       "speechiness                       0.0558  \n",
       "acousticness                      0.0079  \n",
       "instrumentalness                0.000035  \n",
       "liveness                          0.0865  \n",
       "valence                            0.665  \n",
       "tempo                            105.854  \n",
       "duration_ms                       182693  \n",
       "time_signature                         4  "
      ]
     },
     "execution_count": 99,
     "metadata": {},
     "output_type": "execute_result"
    }
   ],
   "source": [
    "df.sample(3).T"
   ]
  },
  {
   "cell_type": "markdown",
   "id": "35bf8b30-dd10-4095-8a10-f36b17f92994",
   "metadata": {
    "id": "i1j9Yn9Jhz-S"
   },
   "source": [
    "# Вопросы"
   ]
  },
  {
   "cell_type": "markdown",
   "id": "472ca155-a65f-45f0-99cd-cb3ff2fc21e8",
   "metadata": {},
   "source": [
    "## Анализ данных\n",
    "С помощью работы с типом данных DataFrame из библиотеки pandas ответье на поставленные вопросы"
   ]
  },
  {
   "cell_type": "code",
   "execution_count": 100,
   "id": "f46e9e90-d219-4d73-a73c-d7f906469e7b",
   "metadata": {},
   "outputs": [
    {
     "data": {
      "text/html": [
       "<div>\n",
       "<style scoped>\n",
       "    .dataframe tbody tr th:only-of-type {\n",
       "        vertical-align: middle;\n",
       "    }\n",
       "\n",
       "    .dataframe tbody tr th {\n",
       "        vertical-align: top;\n",
       "    }\n",
       "\n",
       "    .dataframe thead th {\n",
       "        text-align: right;\n",
       "    }\n",
       "</style>\n",
       "<table border=\"1\" class=\"dataframe\">\n",
       "  <thead>\n",
       "    <tr style=\"text-align: right;\">\n",
       "      <th></th>\n",
       "      <th>artist_name</th>\n",
       "      <th>track_name</th>\n",
       "      <th>track_id</th>\n",
       "      <th>popularity</th>\n",
       "      <th>year</th>\n",
       "      <th>genre</th>\n",
       "      <th>danceability</th>\n",
       "      <th>energy</th>\n",
       "      <th>key</th>\n",
       "      <th>loudness</th>\n",
       "      <th>mode</th>\n",
       "      <th>speechiness</th>\n",
       "      <th>acousticness</th>\n",
       "      <th>instrumentalness</th>\n",
       "      <th>liveness</th>\n",
       "      <th>valence</th>\n",
       "      <th>tempo</th>\n",
       "      <th>duration_ms</th>\n",
       "      <th>time_signature</th>\n",
       "    </tr>\n",
       "  </thead>\n",
       "  <tbody>\n",
       "    <tr>\n",
       "      <th>0</th>\n",
       "      <td>Jason Mraz</td>\n",
       "      <td>I Won't Give Up</td>\n",
       "      <td>53QF56cjZA9RTuuMZDrSA6</td>\n",
       "      <td>68</td>\n",
       "      <td>2012</td>\n",
       "      <td>acoustic</td>\n",
       "      <td>0.483</td>\n",
       "      <td>0.303</td>\n",
       "      <td>4</td>\n",
       "      <td>-10.058</td>\n",
       "      <td>1</td>\n",
       "      <td>0.0429</td>\n",
       "      <td>0.6940</td>\n",
       "      <td>0.000000</td>\n",
       "      <td>0.1150</td>\n",
       "      <td>0.1390</td>\n",
       "      <td>133.406</td>\n",
       "      <td>240166</td>\n",
       "      <td>3</td>\n",
       "    </tr>\n",
       "    <tr>\n",
       "      <th>1</th>\n",
       "      <td>Jason Mraz</td>\n",
       "      <td>93 Million Miles</td>\n",
       "      <td>1s8tP3jP4GZcyHDsjvw218</td>\n",
       "      <td>50</td>\n",
       "      <td>2012</td>\n",
       "      <td>acoustic</td>\n",
       "      <td>0.572</td>\n",
       "      <td>0.454</td>\n",
       "      <td>3</td>\n",
       "      <td>-10.286</td>\n",
       "      <td>1</td>\n",
       "      <td>0.0258</td>\n",
       "      <td>0.4770</td>\n",
       "      <td>0.000014</td>\n",
       "      <td>0.0974</td>\n",
       "      <td>0.5150</td>\n",
       "      <td>140.182</td>\n",
       "      <td>216387</td>\n",
       "      <td>4</td>\n",
       "    </tr>\n",
       "    <tr>\n",
       "      <th>2</th>\n",
       "      <td>Joshua Hyslop</td>\n",
       "      <td>Do Not Let Me Go</td>\n",
       "      <td>7BRCa8MPiyuvr2VU3O9W0F</td>\n",
       "      <td>57</td>\n",
       "      <td>2012</td>\n",
       "      <td>acoustic</td>\n",
       "      <td>0.409</td>\n",
       "      <td>0.234</td>\n",
       "      <td>3</td>\n",
       "      <td>-13.711</td>\n",
       "      <td>1</td>\n",
       "      <td>0.0323</td>\n",
       "      <td>0.3380</td>\n",
       "      <td>0.000050</td>\n",
       "      <td>0.0895</td>\n",
       "      <td>0.1450</td>\n",
       "      <td>139.832</td>\n",
       "      <td>158960</td>\n",
       "      <td>4</td>\n",
       "    </tr>\n",
       "    <tr>\n",
       "      <th>3</th>\n",
       "      <td>Boyce Avenue</td>\n",
       "      <td>Fast Car</td>\n",
       "      <td>63wsZUhUZLlh1OsyrZq7sz</td>\n",
       "      <td>58</td>\n",
       "      <td>2012</td>\n",
       "      <td>acoustic</td>\n",
       "      <td>0.392</td>\n",
       "      <td>0.251</td>\n",
       "      <td>10</td>\n",
       "      <td>-9.845</td>\n",
       "      <td>1</td>\n",
       "      <td>0.0363</td>\n",
       "      <td>0.8070</td>\n",
       "      <td>0.000000</td>\n",
       "      <td>0.0797</td>\n",
       "      <td>0.5080</td>\n",
       "      <td>204.961</td>\n",
       "      <td>304293</td>\n",
       "      <td>4</td>\n",
       "    </tr>\n",
       "    <tr>\n",
       "      <th>4</th>\n",
       "      <td>Andrew Belle</td>\n",
       "      <td>Sky's Still Blue</td>\n",
       "      <td>6nXIYClvJAfi6ujLiKqEq8</td>\n",
       "      <td>54</td>\n",
       "      <td>2012</td>\n",
       "      <td>acoustic</td>\n",
       "      <td>0.430</td>\n",
       "      <td>0.791</td>\n",
       "      <td>6</td>\n",
       "      <td>-5.419</td>\n",
       "      <td>0</td>\n",
       "      <td>0.0302</td>\n",
       "      <td>0.0726</td>\n",
       "      <td>0.019300</td>\n",
       "      <td>0.1100</td>\n",
       "      <td>0.2170</td>\n",
       "      <td>171.864</td>\n",
       "      <td>244320</td>\n",
       "      <td>4</td>\n",
       "    </tr>\n",
       "    <tr>\n",
       "      <th>...</th>\n",
       "      <td>...</td>\n",
       "      <td>...</td>\n",
       "      <td>...</td>\n",
       "      <td>...</td>\n",
       "      <td>...</td>\n",
       "      <td>...</td>\n",
       "      <td>...</td>\n",
       "      <td>...</td>\n",
       "      <td>...</td>\n",
       "      <td>...</td>\n",
       "      <td>...</td>\n",
       "      <td>...</td>\n",
       "      <td>...</td>\n",
       "      <td>...</td>\n",
       "      <td>...</td>\n",
       "      <td>...</td>\n",
       "      <td>...</td>\n",
       "      <td>...</td>\n",
       "      <td>...</td>\n",
       "    </tr>\n",
       "    <tr>\n",
       "      <th>1473391</th>\n",
       "      <td>Nicola Conte</td>\n",
       "      <td>Black Spirits</td>\n",
       "      <td>0m27F0IGHLGAWhqd6ccYst</td>\n",
       "      <td>4</td>\n",
       "      <td>2011</td>\n",
       "      <td>trip-hop</td>\n",
       "      <td>0.373</td>\n",
       "      <td>0.742</td>\n",
       "      <td>10</td>\n",
       "      <td>-6.453</td>\n",
       "      <td>0</td>\n",
       "      <td>0.0736</td>\n",
       "      <td>0.3250</td>\n",
       "      <td>0.000141</td>\n",
       "      <td>0.1590</td>\n",
       "      <td>0.5220</td>\n",
       "      <td>107.951</td>\n",
       "      <td>344013</td>\n",
       "      <td>3</td>\n",
       "    </tr>\n",
       "    <tr>\n",
       "      <th>1473392</th>\n",
       "      <td>Nicola Conte</td>\n",
       "      <td>Quiet Dawn</td>\n",
       "      <td>6er9p611eHEcUCU50j7D57</td>\n",
       "      <td>3</td>\n",
       "      <td>2011</td>\n",
       "      <td>trip-hop</td>\n",
       "      <td>0.516</td>\n",
       "      <td>0.675</td>\n",
       "      <td>7</td>\n",
       "      <td>-7.588</td>\n",
       "      <td>0</td>\n",
       "      <td>0.0326</td>\n",
       "      <td>0.7880</td>\n",
       "      <td>0.000129</td>\n",
       "      <td>0.1300</td>\n",
       "      <td>0.2640</td>\n",
       "      <td>119.897</td>\n",
       "      <td>285067</td>\n",
       "      <td>4</td>\n",
       "    </tr>\n",
       "    <tr>\n",
       "      <th>1473393</th>\n",
       "      <td>Amon Tobin</td>\n",
       "      <td>Morning Ms Candis</td>\n",
       "      <td>7jsMMqxy1tt0rH5FzYcZTQ</td>\n",
       "      <td>2</td>\n",
       "      <td>2011</td>\n",
       "      <td>trip-hop</td>\n",
       "      <td>0.491</td>\n",
       "      <td>0.440</td>\n",
       "      <td>5</td>\n",
       "      <td>-8.512</td>\n",
       "      <td>1</td>\n",
       "      <td>0.0274</td>\n",
       "      <td>0.4770</td>\n",
       "      <td>0.003130</td>\n",
       "      <td>0.0936</td>\n",
       "      <td>0.0351</td>\n",
       "      <td>100.076</td>\n",
       "      <td>214253</td>\n",
       "      <td>4</td>\n",
       "    </tr>\n",
       "    <tr>\n",
       "      <th>1473394</th>\n",
       "      <td>Peace Orchestra</td>\n",
       "      <td>Happy Christmas (War Is Over)</td>\n",
       "      <td>77lA1InUaXztuRk2vOzD1S</td>\n",
       "      <td>0</td>\n",
       "      <td>2011</td>\n",
       "      <td>trip-hop</td>\n",
       "      <td>0.480</td>\n",
       "      <td>0.405</td>\n",
       "      <td>0</td>\n",
       "      <td>-13.343</td>\n",
       "      <td>1</td>\n",
       "      <td>0.0276</td>\n",
       "      <td>0.4310</td>\n",
       "      <td>0.000063</td>\n",
       "      <td>0.1250</td>\n",
       "      <td>0.2020</td>\n",
       "      <td>133.885</td>\n",
       "      <td>239133</td>\n",
       "      <td>3</td>\n",
       "    </tr>\n",
       "    <tr>\n",
       "      <th>1473395</th>\n",
       "      <td>Mo' Horizons</td>\n",
       "      <td>Hit the Road Jack (Pé Na Éstrada)</td>\n",
       "      <td>4oMiOwhDZEdBuzAfhzRHbi</td>\n",
       "      <td>3</td>\n",
       "      <td>2011</td>\n",
       "      <td>trip-hop</td>\n",
       "      <td>0.782</td>\n",
       "      <td>0.861</td>\n",
       "      <td>1</td>\n",
       "      <td>-7.292</td>\n",
       "      <td>0</td>\n",
       "      <td>0.1250</td>\n",
       "      <td>0.2200</td>\n",
       "      <td>0.000008</td>\n",
       "      <td>0.0581</td>\n",
       "      <td>0.8570</td>\n",
       "      <td>89.987</td>\n",
       "      <td>212227</td>\n",
       "      <td>4</td>\n",
       "    </tr>\n",
       "  </tbody>\n",
       "</table>\n",
       "<p>1159764 rows × 19 columns</p>\n",
       "</div>"
      ],
      "text/plain": [
       "             artist_name                         track_name  \\\n",
       "0             Jason Mraz                    I Won't Give Up   \n",
       "1             Jason Mraz                   93 Million Miles   \n",
       "2          Joshua Hyslop                   Do Not Let Me Go   \n",
       "3           Boyce Avenue                           Fast Car   \n",
       "4           Andrew Belle                   Sky's Still Blue   \n",
       "...                  ...                                ...   \n",
       "1473391     Nicola Conte                      Black Spirits   \n",
       "1473392     Nicola Conte                         Quiet Dawn   \n",
       "1473393       Amon Tobin                  Morning Ms Candis   \n",
       "1473394  Peace Orchestra      Happy Christmas (War Is Over)   \n",
       "1473395     Mo' Horizons  Hit the Road Jack (Pé Na Éstrada)   \n",
       "\n",
       "                       track_id  popularity  year     genre  danceability  \\\n",
       "0        53QF56cjZA9RTuuMZDrSA6          68  2012  acoustic         0.483   \n",
       "1        1s8tP3jP4GZcyHDsjvw218          50  2012  acoustic         0.572   \n",
       "2        7BRCa8MPiyuvr2VU3O9W0F          57  2012  acoustic         0.409   \n",
       "3        63wsZUhUZLlh1OsyrZq7sz          58  2012  acoustic         0.392   \n",
       "4        6nXIYClvJAfi6ujLiKqEq8          54  2012  acoustic         0.430   \n",
       "...                         ...         ...   ...       ...           ...   \n",
       "1473391  0m27F0IGHLGAWhqd6ccYst           4  2011  trip-hop         0.373   \n",
       "1473392  6er9p611eHEcUCU50j7D57           3  2011  trip-hop         0.516   \n",
       "1473393  7jsMMqxy1tt0rH5FzYcZTQ           2  2011  trip-hop         0.491   \n",
       "1473394  77lA1InUaXztuRk2vOzD1S           0  2011  trip-hop         0.480   \n",
       "1473395  4oMiOwhDZEdBuzAfhzRHbi           3  2011  trip-hop         0.782   \n",
       "\n",
       "         energy  key  loudness  mode  speechiness  acousticness  \\\n",
       "0         0.303    4   -10.058     1       0.0429        0.6940   \n",
       "1         0.454    3   -10.286     1       0.0258        0.4770   \n",
       "2         0.234    3   -13.711     1       0.0323        0.3380   \n",
       "3         0.251   10    -9.845     1       0.0363        0.8070   \n",
       "4         0.791    6    -5.419     0       0.0302        0.0726   \n",
       "...         ...  ...       ...   ...          ...           ...   \n",
       "1473391   0.742   10    -6.453     0       0.0736        0.3250   \n",
       "1473392   0.675    7    -7.588     0       0.0326        0.7880   \n",
       "1473393   0.440    5    -8.512     1       0.0274        0.4770   \n",
       "1473394   0.405    0   -13.343     1       0.0276        0.4310   \n",
       "1473395   0.861    1    -7.292     0       0.1250        0.2200   \n",
       "\n",
       "         instrumentalness  liveness  valence    tempo  duration_ms  \\\n",
       "0                0.000000    0.1150   0.1390  133.406       240166   \n",
       "1                0.000014    0.0974   0.5150  140.182       216387   \n",
       "2                0.000050    0.0895   0.1450  139.832       158960   \n",
       "3                0.000000    0.0797   0.5080  204.961       304293   \n",
       "4                0.019300    0.1100   0.2170  171.864       244320   \n",
       "...                   ...       ...      ...      ...          ...   \n",
       "1473391          0.000141    0.1590   0.5220  107.951       344013   \n",
       "1473392          0.000129    0.1300   0.2640  119.897       285067   \n",
       "1473393          0.003130    0.0936   0.0351  100.076       214253   \n",
       "1473394          0.000063    0.1250   0.2020  133.885       239133   \n",
       "1473395          0.000008    0.0581   0.8570   89.987       212227   \n",
       "\n",
       "         time_signature  \n",
       "0                     3  \n",
       "1                     4  \n",
       "2                     4  \n",
       "3                     4  \n",
       "4                     4  \n",
       "...                 ...  \n",
       "1473391               3  \n",
       "1473392               4  \n",
       "1473393               4  \n",
       "1473394               3  \n",
       "1473395               4  \n",
       "\n",
       "[1159764 rows x 19 columns]"
      ]
     },
     "execution_count": 100,
     "metadata": {},
     "output_type": "execute_result"
    }
   ],
   "source": [
    "# YOUR IMPORTS HERE\n",
    "path = 'spotify_data.csv'\n",
    "df = pd.read_csv(path, index_col=0)\n",
    "df"
   ]
  },
  {
   "cell_type": "markdown",
   "id": "f0a05171-95d4-4051-8710-f2df20ead9fb",
   "metadata": {},
   "source": [
    "### 1. Сколько уникальных исполнителей и сколько уникальных жанров содержится в датасете?\n",
    "\n",
    "**Результат**: Код и текстовый ответ на вопрос в формате\n",
    "\n",
    "```\n",
    "Уникальных исполнителей: <ответ>\n",
    "Уникальных жанров: <ответ>\n",
    "```"
   ]
  },
  {
   "cell_type": "code",
   "execution_count": 101,
   "id": "7170ea54-484a-41a8-8be7-bcc309fdead0",
   "metadata": {},
   "outputs": [
    {
     "name": "stdout",
     "output_type": "stream",
     "text": [
      "Уникальных исполнителей 64158\n",
      "Уникальных жанров 82\n"
     ]
    }
   ],
   "source": [
    "# YOUR CODE HERE\n",
    "artist_names = df['artist_name'].nunique()\n",
    "print(\"Уникальных исполнителей\", artist_names)\n",
    "genres = df['genre'].nunique()\n",
    "print(\"Уникальных жанров\", genres)"
   ]
  },
  {
   "cell_type": "markdown",
   "id": "948d2a73-09bf-43c3-ad7b-6a00cacaaf48",
   "metadata": {},
   "source": [
    "### 2. Есть ли в данных пропуски? Если да, предложите способ их заполнения и реализуйте его\n",
    "\n",
    "**Результат**: Код и текстовый ответ на вопрос в формате\n",
    "\n",
    "```\n",
    "Для каждого столбца в таблице\n",
    "<Название столбца> - <Сколько пропусков> - <Описание способа заполнения> (Если были пропуски)\n",
    "```\n"
   ]
  },
  {
   "cell_type": "code",
   "execution_count": 102,
   "id": "cd606c12-207f-423b-b241-a9981a80cb95",
   "metadata": {},
   "outputs": [
    {
     "name": "stdout",
     "output_type": "stream",
     "text": [
      "artist_name - 15\n",
      "Столбец 'artist_name' будем заполнять значением 'Empty'\n",
      "track_name - 1\n",
      "Столбец 'track_name' будем заполнять значением 'Empty'\n",
      "track_id - 0\n",
      "Столбец 'track_id' будем заполнять значением 'Empty'\n",
      "popularity - 0\n",
      "Столбец 'popularity' будем заполнять средним значением (чтобы значение ячейки не влияло на общее 'старое' среднее значение)\n",
      "year - 0\n",
      "Столбец 'year' будем заполнять средним значением (чтобы значение ячейки не влияло на общее 'старое' среднее значение)\n",
      "genre - 0\n",
      "Столбец 'genre' будем заполнять значением 'Empty'\n",
      "danceability - 0\n",
      "Столбец 'danceability' будем заполнять средним значением (чтобы значение ячейки не влияло на общее 'старое' среднее значение)\n",
      "energy - 0\n",
      "Столбец 'energy' будем заполнять средним значением (чтобы значение ячейки не влияло на общее 'старое' среднее значение)\n",
      "key - 0\n",
      "Столбец 'key' будем заполнять средним значением (чтобы значение ячейки не влияло на общее 'старое' среднее значение)\n",
      "loudness - 0\n",
      "Столбец 'loudness' будем заполнять средним значением (чтобы значение ячейки не влияло на общее 'старое' среднее значение)\n",
      "mode - 0\n",
      "Столбец 'mode' будем заполнять средним значением (чтобы значение ячейки не влияло на общее 'старое' среднее значение)\n",
      "speechiness - 0\n",
      "Столбец 'speechiness' будем заполнять средним значением (чтобы значение ячейки не влияло на общее 'старое' среднее значение)\n",
      "acousticness - 0\n",
      "Столбец 'acousticness' будем заполнять средним значением (чтобы значение ячейки не влияло на общее 'старое' среднее значение)\n",
      "instrumentalness - 0\n",
      "Столбец 'instrumentalness' будем заполнять средним значением (чтобы значение ячейки не влияло на общее 'старое' среднее значение)\n",
      "liveness - 0\n",
      "Столбец 'liveness' будем заполнять средним значением (чтобы значение ячейки не влияло на общее 'старое' среднее значение)\n",
      "valence - 0\n",
      "Столбец 'valence' будем заполнять средним значением (чтобы значение ячейки не влияло на общее 'старое' среднее значение)\n",
      "tempo - 0\n",
      "Столбец 'tempo' будем заполнять средним значением (чтобы значение ячейки не влияло на общее 'старое' среднее значение)\n",
      "duration_ms - 0\n",
      "Столбец 'duration_ms' будем заполнять средним значением (чтобы значение ячейки не влияло на общее 'старое' среднее значение)\n",
      "time_signature - 0\n",
      "Столбец 'time_signature' будем заполнять средним значением (чтобы значение ячейки не влияло на общее 'старое' среднее значение)\n"
     ]
    },
    {
     "name": "stderr",
     "output_type": "stream",
     "text": [
      "C:\\Users\\A138\\AppData\\Local\\Temp\\ipykernel_16704\\1523266782.py:10: FutureWarning:\n",
      "\n",
      "A value is trying to be set on a copy of a DataFrame or Series through chained assignment using an inplace method.\n",
      "The behavior will change in pandas 3.0. This inplace method will never work because the intermediate object on which we are setting values always behaves as a copy.\n",
      "\n",
      "For example, when doing 'df[col].method(value, inplace=True)', try using 'df.method({col: value}, inplace=True)' or df[col] = df[col].method(value) instead, to perform the operation inplace on the original object.\n",
      "\n",
      "\n",
      "\n",
      "C:\\Users\\A138\\AppData\\Local\\Temp\\ipykernel_16704\\1523266782.py:13: FutureWarning:\n",
      "\n",
      "A value is trying to be set on a copy of a DataFrame or Series through chained assignment using an inplace method.\n",
      "The behavior will change in pandas 3.0. This inplace method will never work because the intermediate object on which we are setting values always behaves as a copy.\n",
      "\n",
      "For example, when doing 'df[col].method(value, inplace=True)', try using 'df.method({col: value}, inplace=True)' or df[col] = df[col].method(value) instead, to perform the operation inplace on the original object.\n",
      "\n",
      "\n",
      "\n"
     ]
    },
    {
     "data": {
      "text/plain": [
       "\"artist_name - 15\\nСтолбец 'artist_name' будем заполнять значением 'Empty'\\ntrack_name - 1\\nСтолбец 'track_name' будем заполнять значением 'Empty'\\ntrack_id - 0\\nСтолбец 'track_id' будем заполнять значением 'Empty'\\npopularity - 0\\nСтолбец 'popularity' будем заполнять средним значением (чтобы значение ячейки не влияло на общее 'старое' среднее значение)\\nyear - 0\\nСтолбец 'year' будем заполнять средним значением (чтобы значение ячейки не влияло на общее 'старое' среднее значение)\\ngenre - 0\\nСтолбец 'genre' будем заполнять значением 'Empty'\\ndanceability - 0\\nСтолбец 'danceability' будем заполнять средним значением (чтобы значение ячейки не влияло на общее 'старое' среднее значение)\\nenergy - 0\\nСтолбец 'energy' будем заполнять средним значением (чтобы значение ячейки не влияло на общее 'старое' среднее значение)\\nkey - 0\\nСтолбец 'key' будем заполнять средним значением (чтобы значение ячейки не влияло на общее 'старое' среднее значение)\\nloudness - 0\\nСтолбец 'loudness' будем заполнять средним значением (чтобы значение ячейки не влияло на общее 'старое' среднее значение)\\nmode - 0\\nСтолбец 'mode' будем заполнять средним значением (чтобы значение ячейки не влияло на общее 'старое' среднее значение)\\nspeechiness - 0\\nСтолбец 'speechiness' будем заполнять средним значением (чтобы значение ячейки не влияло на общее 'старое' среднее значение)\\nacousticness - 0\\n...\\ninstrumentalness - 0\\nСтолбец 'instrumentalness' будем заполнять средним значением (чтобы значение ячейки не влияло на общее 'старое' среднее значение)\\nliveness - 0\\nСтолбец 'liveness' будем заполнять средним значением (чтобы значение ячейки не влияло на общее 'старое' среднее значение)\""
      ]
     },
     "execution_count": 102,
     "metadata": {},
     "output_type": "execute_result"
    }
   ],
   "source": [
    "# YOUR CODE HERE\n",
    "nan_counts = df.isna().sum()\n",
    "for column in df.columns:\n",
    "    nan_count = nan_counts[column]\n",
    "    print(f\"{column} - {nan_count}\")\n",
    "    \n",
    "    # Описание реализации заполнения\n",
    "    if df[column].dtype == 'object':\n",
    "        print(f\"Столбец '{column}' будем заполнять значением 'Empty'\")\n",
    "        df[column].fillna('Empty', inplace=True)\n",
    "    else:\n",
    "        print(f\"Столбец '{column}' будем заполнять средним значением (чтобы значение ячейки не влияло на общее 'старое' среднее значение)\")\n",
    "        df[column].fillna(df[column].mean(), inplace=True)\n",
    "# вот что получилось, после первого запуска, наши данные в таблице изменены по нашим методам\n",
    "\"\"\"artist_name - 15\n",
    "Столбец 'artist_name' будем заполнять значением 'Empty'\n",
    "track_name - 1\n",
    "Столбец 'track_name' будем заполнять значением 'Empty'\n",
    "track_id - 0\n",
    "Столбец 'track_id' будем заполнять значением 'Empty'\n",
    "popularity - 0\n",
    "Столбец 'popularity' будем заполнять средним значением (чтобы значение ячейки не влияло на общее 'старое' среднее значение)\n",
    "year - 0\n",
    "Столбец 'year' будем заполнять средним значением (чтобы значение ячейки не влияло на общее 'старое' среднее значение)\n",
    "genre - 0\n",
    "Столбец 'genre' будем заполнять значением 'Empty'\n",
    "danceability - 0\n",
    "Столбец 'danceability' будем заполнять средним значением (чтобы значение ячейки не влияло на общее 'старое' среднее значение)\n",
    "energy - 0\n",
    "Столбец 'energy' будем заполнять средним значением (чтобы значение ячейки не влияло на общее 'старое' среднее значение)\n",
    "key - 0\n",
    "Столбец 'key' будем заполнять средним значением (чтобы значение ячейки не влияло на общее 'старое' среднее значение)\n",
    "loudness - 0\n",
    "Столбец 'loudness' будем заполнять средним значением (чтобы значение ячейки не влияло на общее 'старое' среднее значение)\n",
    "mode - 0\n",
    "Столбец 'mode' будем заполнять средним значением (чтобы значение ячейки не влияло на общее 'старое' среднее значение)\n",
    "speechiness - 0\n",
    "Столбец 'speechiness' будем заполнять средним значением (чтобы значение ячейки не влияло на общее 'старое' среднее значение)\n",
    "acousticness - 0\n",
    "...\n",
    "instrumentalness - 0\n",
    "Столбец 'instrumentalness' будем заполнять средним значением (чтобы значение ячейки не влияло на общее 'старое' среднее значение)\n",
    "liveness - 0\n",
    "Столбец 'liveness' будем заполнять средним значением (чтобы значение ячейки не влияло на общее 'старое' среднее значение)\"\"\""
   ]
  },
  {
   "cell_type": "markdown",
   "id": "ff5fa1ce-fc67-4865-88a1-5834f1919e27",
   "metadata": {},
   "source": [
    "### 3. Есть ли признаки, которые не отвечают указанным в описании ограничениям? Если есть, то замените их\n",
    "\n",
    "**Результат**: Код и текстовый ответ на вопрос в формате\n",
    "\n",
    "```\n",
    "Для каждого столбца в таблице\n",
    "<Название столбца> - <Сколько не соответствующих ограничениям данных> - <Описание способа замены> (Если были некорректные данные)\n",
    "```"
   ]
  },
  {
   "cell_type": "code",
   "execution_count": 103,
   "id": "06f5ee4c-bf8f-4bee-928e-2493ed496a66",
   "metadata": {},
   "outputs": [],
   "source": [
    "# YOUR CODE HERE"
   ]
  },
  {
   "cell_type": "markdown",
   "id": "720ed6f9-87ea-4f1f-b73c-48ee5aaad9f1",
   "metadata": {},
   "source": [
    "## Визуальный анализ\n",
    "Ответом на вопрос должен быть график или несколько графиков в одной фигуре (картинке), с минимальной подписью"
   ]
  },
  {
   "cell_type": "code",
   "execution_count": 104,
   "id": "074cca35-dba7-44f6-9c96-db090f60d231",
   "metadata": {},
   "outputs": [],
   "source": [
    "# YOUR IMPORTS HERE\n",
    "import pandas as pd\n",
    "import matplotlib.pyplot as plt\n",
    "import numpy as np\n",
    "import seaborn as sns\n",
    "import plotly.express as px"
   ]
  },
  {
   "cell_type": "markdown",
   "id": "5dcf93bb-9dbb-41d2-b469-a0a7ff490e61",
   "metadata": {},
   "source": [
    "### 1. Как Energy зависит от Danceability? Как зависит Loudness от Energy? Как эти параметры влияют на Valence?\n",
    "\n",
    "**Результат**: Код, реализующий графики:\n",
    "\n",
    "- Зависимость Energy от Danceability\n",
    "- Зависимость Loudness от Energy\n",
    "- Зависимость Valence от Energy, зависимость Valence от Danceability; в одной оси фигуры\n",
    "- Зависимость Valence от Loudness\n",
    "- Матрица корреляции Energy, Danceability, Loudness, Valence\n",
    "\n",
    "Каждый график должен иметь название, подписанные оси и, при необходимости, легенду.\n",
    "\n",
    "**Дополнительно**: Нарисовать стрелки и подписи к ним на графике, обращающие внимание на ключевые моменты, позволяющие сделать выводы о зависимостях. "
   ]
  },
  {
   "cell_type": "code",
   "execution_count": 105,
   "id": "58812ce7-1dfd-4144-9985-dd4891aba45b",
   "metadata": {},
   "outputs": [
    {
     "data": {
      "image/png": "[encoded data removed]",
      "text/plain": [
       "<Figure size 640x480 with 2 Axes>"
      ]
     },
     "metadata": {},
     "output_type": "display_data"
    },
    {
     "data": {
      "image/png": "[encoded data removed]",
      "text/plain": [
       "<Figure size 640x480 with 2 Axes>"
      ]
     },
     "metadata": {},
     "output_type": "display_data"
    },
    {
     "data": {
      "image/png": "[encoded data removed]",
      "text/plain": [
       "<Figure size 640x480 with 1 Axes>"
      ]
     },
     "metadata": {},
     "output_type": "display_data"
    },
    {
     "name": "stdout",
     "output_type": "stream",
     "text": [
      "                energy  danceability  loudness   valence\n",
      "energy        1.000000      0.139267  0.781006  0.247968\n",
      "danceability  0.139267      1.000000  0.257174  0.519900\n",
      "loudness      0.781006      0.257174  1.000000  0.294912\n",
      "valence       0.247968      0.519900  0.294912  1.000000\n"
     ]
    },
    {
     "data": {
      "application/vnd.plotly.v1+json": {
       "config": {
        "plotlyServerURL": "https://plot.ly"
       },
       "data": [
        {
         "coloraxis": "coloraxis",
         "hovertemplate": "x: %{x}<br>y: %{y}<br>color: %{z}<extra></extra>",
         "name": "0",
         "type": "heatmap",
         "x": [
          "energy",
          "danceability",
          "loudness",
          "valence"
         ],
         "xaxis": "x",
         "y": [
          "energy",
          "danceability",
          "loudness",
          "valence"
         ],
         "yaxis": "y",
         "z": [
          [
           1,
           0.13926746766801998,
           0.7810056565610544,
           0.24796790171521407
          ],
          [
           0.13926746766801998,
           1,
           0.2571741983971568,
           0.5198999113323229
          ],
          [
           0.7810056565610544,
           0.2571741983971568,
           1,
           0.29491196595930613
          ],
          [
           0.24796790171521407,
           0.5198999113323229,
           0.29491196595930613,
           1
          ]
         ]
        }
       ],
       "layout": {
        "coloraxis": {
         "cmax": 1,
         "cmin": -1,
         "colorscale": [
          [
           0,
           "#0d0887"
          ],
          [
           0.1111111111111111,
           "#46039f"
          ],
          [
           0.2222222222222222,
           "#7201a8"
          ],
          [
           0.3333333333333333,
           "#9c179e"
          ],
          [
           0.4444444444444444,
           "#bd3786"
          ],
          [
           0.5555555555555556,
           "#d8576b"
          ],
          [
           0.6666666666666666,
           "#ed7953"
          ],
          [
           0.7777777777777778,
           "#fb9f3a"
          ],
          [
           0.8888888888888888,
           "#fdca26"
          ],
          [
           1,
           "#f0f921"
          ]
         ]
        },
        "margin": {
         "t": 60
        },
        "template": {
         "data": {
          "bar": [
           {
            "error_x": {
             "color": "#2a3f5f"
            },
            "error_y": {
             "color": "#2a3f5f"
            },
            "marker": {
             "line": {
              "color": "#E5ECF6",
              "width": 0.5
             },
             "pattern": {
              "fillmode": "overlay",
              "size": 10,
              "solidity": 0.2
             }
            },
            "type": "bar"
           }
          ],
          "barpolar": [
           {
            "marker": {
             "line": {
              "color": "#E5ECF6",
              "width": 0.5
             },
             "pattern": {
              "fillmode": "overlay",
              "size": 10,
              "solidity": 0.2
             }
            },
            "type": "barpolar"
           }
          ],
          "carpet": [
           {
            "aaxis": {
             "endlinecolor": "#2a3f5f",
             "gridcolor": "white",
             "linecolor": "white",
             "minorgridcolor": "white",
             "startlinecolor": "#2a3f5f"
            },
            "baxis": {
             "endlinecolor": "#2a3f5f",
             "gridcolor": "white",
             "linecolor": "white",
             "minorgridcolor": "white",
             "startlinecolor": "#2a3f5f"
            },
            "type": "carpet"
           }
          ],
          "choropleth": [
           {
            "colorbar": {
             "outlinewidth": 0,
             "ticks": ""
            },
            "type": "choropleth"
           }
          ],
          "contour": [
           {
            "colorbar": {
             "outlinewidth": 0,
             "ticks": ""
            },
            "colorscale": [
             [
              0,
              "#0d0887"
             ],
             [
              0.1111111111111111,
              "#46039f"
             ],
             [
              0.2222222222222222,
              "#7201a8"
             ],
             [
              0.3333333333333333,
              "#9c179e"
             ],
             [
              0.4444444444444444,
              "#bd3786"
             ],
             [
              0.5555555555555556,
              "#d8576b"
             ],
             [
              0.6666666666666666,
              "#ed7953"
             ],
             [
              0.7777777777777778,
              "#fb9f3a"
             ],
             [
              0.8888888888888888,
              "#fdca26"
             ],
             [
              1,
              "#f0f921"
             ]
            ],
            "type": "contour"
           }
          ],
          "contourcarpet": [
           {
            "colorbar": {
             "outlinewidth": 0,
             "ticks": ""
            },
            "type": "contourcarpet"
           }
          ],
          "heatmap": [
           {
            "colorbar": {
             "outlinewidth": 0,
             "ticks": ""
            },
            "colorscale": [
             [
              0,
              "#0d0887"
             ],
             [
              0.1111111111111111,
              "#46039f"
             ],
             [
              0.2222222222222222,
              "#7201a8"
             ],
             [
              0.3333333333333333,
              "#9c179e"
             ],
             [
              0.4444444444444444,
              "#bd3786"
             ],
             [
              0.5555555555555556,
              "#d8576b"
             ],
             [
              0.6666666666666666,
              "#ed7953"
             ],
             [
              0.7777777777777778,
              "#fb9f3a"
             ],
             [
              0.8888888888888888,
              "#fdca26"
             ],
             [
              1,
              "#f0f921"
             ]
            ],
            "type": "heatmap"
           }
          ],
          "heatmapgl": [
           {
            "colorbar": {
             "outlinewidth": 0,
             "ticks": ""
            },
            "colorscale": [
             [
              0,
              "#0d0887"
             ],
             [
              0.1111111111111111,
              "#46039f"
             ],
             [
              0.2222222222222222,
              "#7201a8"
             ],
             [
              0.3333333333333333,
              "#9c179e"
             ],
             [
              0.4444444444444444,
              "#bd3786"
             ],
             [
              0.5555555555555556,
              "#d8576b"
             ],
             [
              0.6666666666666666,
              "#ed7953"
             ],
             [
              0.7777777777777778,
              "#fb9f3a"
             ],
             [
              0.8888888888888888,
              "#fdca26"
             ],
             [
              1,
              "#f0f921"
             ]
            ],
            "type": "heatmapgl"
           }
          ],
          "histogram": [
           {
            "marker": {
             "pattern": {
              "fillmode": "overlay",
              "size": 10,
              "solidity": 0.2
             }
            },
            "type": "histogram"
           }
          ],
          "histogram2d": [
           {
            "colorbar": {
             "outlinewidth": 0,
             "ticks": ""
            },
            "colorscale": [
             [
              0,
              "#0d0887"
             ],
             [
              0.1111111111111111,
              "#46039f"
             ],
             [
              0.2222222222222222,
              "#7201a8"
             ],
             [
              0.3333333333333333,
              "#9c179e"
             ],
             [
              0.4444444444444444,
              "#bd3786"
             ],
             [
              0.5555555555555556,
              "#d8576b"
             ],
             [
              0.6666666666666666,
              "#ed7953"
             ],
             [
              0.7777777777777778,
              "#fb9f3a"
             ],
             [
              0.8888888888888888,
              "#fdca26"
             ],
             [
              1,
              "#f0f921"
             ]
            ],
            "type": "histogram2d"
           }
          ],
          "histogram2dcontour": [
           {
            "colorbar": {
             "outlinewidth": 0,
             "ticks": ""
            },
            "colorscale": [
             [
              0,
              "#0d0887"
             ],
             [
              0.1111111111111111,
              "#46039f"
             ],
             [
              0.2222222222222222,
              "#7201a8"
             ],
             [
              0.3333333333333333,
              "#9c179e"
             ],
             [
              0.4444444444444444,
              "#bd3786"
             ],
             [
              0.5555555555555556,
              "#d8576b"
             ],
             [
              0.6666666666666666,
              "#ed7953"
             ],
             [
              0.7777777777777778,
              "#fb9f3a"
             ],
             [
              0.8888888888888888,
              "#fdca26"
             ],
             [
              1,
              "#f0f921"
             ]
            ],
            "type": "histogram2dcontour"
           }
          ],
          "mesh3d": [
           {
            "colorbar": {
             "outlinewidth": 0,
             "ticks": ""
            },
            "type": "mesh3d"
           }
          ],
          "parcoords": [
           {
            "line": {
             "colorbar": {
              "outlinewidth": 0,
              "ticks": ""
             }
            },
            "type": "parcoords"
           }
          ],
          "pie": [
           {
            "automargin": true,
            "type": "pie"
           }
          ],
          "scatter": [
           {
            "fillpattern": {
             "fillmode": "overlay",
             "size": 10,
             "solidity": 0.2
            },
            "type": "scatter"
           }
          ],
          "scatter3d": [
           {
            "line": {
             "colorbar": {
              "outlinewidth": 0,
              "ticks": ""
             }
            },
            "marker": {
             "colorbar": {
              "outlinewidth": 0,
              "ticks": ""
             }
            },
            "type": "scatter3d"
           }
          ],
          "scattercarpet": [
           {
            "marker": {
             "colorbar": {
              "outlinewidth": 0,
              "ticks": ""
             }
            },
            "type": "scattercarpet"
           }
          ],
          "scattergeo": [
           {
            "marker": {
             "colorbar": {
              "outlinewidth": 0,
              "ticks": ""
             }
            },
            "type": "scattergeo"
           }
          ],
          "scattergl": [
           {
            "marker": {
             "colorbar": {
              "outlinewidth": 0,
              "ticks": ""
             }
            },
            "type": "scattergl"
           }
          ],
          "scattermapbox": [
           {
            "marker": {
             "colorbar": {
              "outlinewidth": 0,
              "ticks": ""
             }
            },
            "type": "scattermapbox"
           }
          ],
          "scatterpolar": [
           {
            "marker": {
             "colorbar": {
              "outlinewidth": 0,
              "ticks": ""
             }
            },
            "type": "scatterpolar"
           }
          ],
          "scatterpolargl": [
           {
            "marker": {
             "colorbar": {
              "outlinewidth": 0,
              "ticks": ""
             }
            },
            "type": "scatterpolargl"
           }
          ],
          "scatterternary": [
           {
            "marker": {
             "colorbar": {
              "outlinewidth": 0,
              "ticks": ""
             }
            },
            "type": "scatterternary"
           }
          ],
          "surface": [
           {
            "colorbar": {
             "outlinewidth": 0,
             "ticks": ""
            },
            "colorscale": [
             [
              0,
              "#0d0887"
             ],
             [
              0.1111111111111111,
              "#46039f"
             ],
             [
              0.2222222222222222,
              "#7201a8"
             ],
             [
              0.3333333333333333,
              "#9c179e"
             ],
             [
              0.4444444444444444,
              "#bd3786"
             ],
             [
              0.5555555555555556,
              "#d8576b"
             ],
             [
              0.6666666666666666,
              "#ed7953"
             ],
             [
              0.7777777777777778,
              "#fb9f3a"
             ],
             [
              0.8888888888888888,
              "#fdca26"
             ],
             [
              1,
              "#f0f921"
             ]
            ],
            "type": "surface"
           }
          ],
          "table": [
           {
            "cells": {
             "fill": {
              "color": "#EBF0F8"
             },
             "line": {
              "color": "white"
             }
            },
            "header": {
             "fill": {
              "color": "#C8D4E3"
             },
             "line": {
              "color": "white"
             }
            },
            "type": "table"
           }
          ]
         },
         "layout": {
          "annotationdefaults": {
           "arrowcolor": "#2a3f5f",
           "arrowhead": 0,
           "arrowwidth": 1
          },
          "autotypenumbers": "strict",
          "coloraxis": {
           "colorbar": {
            "outlinewidth": 0,
            "ticks": ""
           }
          },
          "colorscale": {
           "diverging": [
            [
             0,
             "#8e0152"
            ],
            [
             0.1,
             "#c51b7d"
            ],
            [
             0.2,
             "#de77ae"
            ],
            [
             0.3,
             "#f1b6da"
            ],
            [
             0.4,
             "#fde0ef"
            ],
            [
             0.5,
             "#f7f7f7"
            ],
            [
             0.6,
             "#e6f5d0"
            ],
            [
             0.7,
             "#b8e186"
            ],
            [
             0.8,
             "#7fbc41"
            ],
            [
             0.9,
             "#4d9221"
            ],
            [
             1,
             "#276419"
            ]
           ],
           "sequential": [
            [
             0,
             "#0d0887"
            ],
            [
             0.1111111111111111,
             "#46039f"
            ],
            [
             0.2222222222222222,
             "#7201a8"
            ],
            [
             0.3333333333333333,
             "#9c179e"
            ],
            [
             0.4444444444444444,
             "#bd3786"
            ],
            [
             0.5555555555555556,
             "#d8576b"
            ],
            [
             0.6666666666666666,
             "#ed7953"
            ],
            [
             0.7777777777777778,
             "#fb9f3a"
            ],
            [
             0.8888888888888888,
             "#fdca26"
            ],
            [
             1,
             "#f0f921"
            ]
           ],
           "sequentialminus": [
            [
             0,
             "#0d0887"
            ],
            [
             0.1111111111111111,
             "#46039f"
            ],
            [
             0.2222222222222222,
             "#7201a8"
            ],
            [
             0.3333333333333333,
             "#9c179e"
            ],
            [
             0.4444444444444444,
             "#bd3786"
            ],
            [
             0.5555555555555556,
             "#d8576b"
            ],
            [
             0.6666666666666666,
             "#ed7953"
            ],
            [
             0.7777777777777778,
             "#fb9f3a"
            ],
            [
             0.8888888888888888,
             "#fdca26"
            ],
            [
             1,
             "#f0f921"
            ]
           ]
          },
          "colorway": [
           "#636efa",
           "#EF553B",
           "#00cc96",
           "#ab63fa",
           "#FFA15A",
           "#19d3f3",
           "#FF6692",
           "#B6E880",
           "#FF97FF",
           "#FECB52"
          ],
          "font": {
           "color": "#2a3f5f"
          },
          "geo": {
           "bgcolor": "white",
           "lakecolor": "white",
           "landcolor": "#E5ECF6",
           "showlakes": true,
           "showland": true,
           "subunitcolor": "white"
          },
          "hoverlabel": {
           "align": "left"
          },
          "hovermode": "closest",
          "mapbox": {
           "style": "light"
          },
          "paper_bgcolor": "white",
          "plot_bgcolor": "#E5ECF6",
          "polar": {
           "angularaxis": {
            "gridcolor": "white",
            "linecolor": "white",
            "ticks": ""
           },
           "bgcolor": "#E5ECF6",
           "radialaxis": {
            "gridcolor": "white",
            "linecolor": "white",
            "ticks": ""
           }
          },
          "scene": {
           "xaxis": {
            "backgroundcolor": "#E5ECF6",
            "gridcolor": "white",
            "gridwidth": 2,
            "linecolor": "white",
            "showbackground": true,
            "ticks": "",
            "zerolinecolor": "white"
           },
           "yaxis": {
            "backgroundcolor": "#E5ECF6",
            "gridcolor": "white",
            "gridwidth": 2,
            "linecolor": "white",
            "showbackground": true,
            "ticks": "",
            "zerolinecolor": "white"
           },
           "zaxis": {
            "backgroundcolor": "#E5ECF6",
            "gridcolor": "white",
            "gridwidth": 2,
            "linecolor": "white",
            "showbackground": true,
            "ticks": "",
            "zerolinecolor": "white"
           }
          },
          "shapedefaults": {
           "line": {
            "color": "#2a3f5f"
           }
          },
          "ternary": {
           "aaxis": {
            "gridcolor": "white",
            "linecolor": "white",
            "ticks": ""
           },
           "baxis": {
            "gridcolor": "white",
            "linecolor": "white",
            "ticks": ""
           },
           "bgcolor": "#E5ECF6",
           "caxis": {
            "gridcolor": "white",
            "linecolor": "white",
            "ticks": ""
           }
          },
          "title": {
           "x": 0.05
          },
          "xaxis": {
           "automargin": true,
           "gridcolor": "white",
           "linecolor": "white",
           "ticks": "",
           "title": {
            "standoff": 15
           },
           "zerolinecolor": "white",
           "zerolinewidth": 2
          },
          "yaxis": {
           "automargin": true,
           "gridcolor": "white",
           "linecolor": "white",
           "ticks": "",
           "title": {
            "standoff": 15
           },
           "zerolinecolor": "white",
           "zerolinewidth": 2
          }
         }
        },
        "xaxis": {
         "anchor": "y",
         "constrain": "domain",
         "domain": [
          0,
          1
         ],
         "scaleanchor": "y"
        },
        "yaxis": {
         "anchor": "x",
         "autorange": "reversed",
         "constrain": "domain",
         "domain": [
          0,
          1
         ]
        }
       }
      }
     },
     "metadata": {},
     "output_type": "display_data"
    }
   ],
   "source": [
    "# 1. Зависимость Energy от Danceability\n",
    "df.plot('danceability', 'energy', kind = 'hexbin', gridsize = 20)\n",
    "plt.title('Зависимость Energy от Danceability')\n",
    "plt.xlabel('danceability')\n",
    "plt.ylabel('energy')\n",
    "\n",
    "\n",
    "# 2. Зависимость Loudness от Energy\n",
    "df.plot('energy', 'loudness', kind = 'hexbin', gridsize = 15)\n",
    "plt.title('Зависимость Loudness от Energy')\n",
    "plt.xlabel('energy')\n",
    "plt.ylabel('loudness')\n",
    "\n",
    "# 3. Попытка соединить графики, получилось очень костыльно\n",
    "valence = df['valence']\n",
    "energy = df['energy']\n",
    "danceability = df[['danceability']]\n",
    "plt.figure ()\n",
    "plt.scatter(valence, energy, color = 'b')\n",
    "plt.scatter(valence, danceability, color = 'r')\n",
    "plt.xlabel('valence')\n",
    "plt.ylabel('energy & danceability')\n",
    "plt.show()\n",
    "\n",
    "# 4. корреляционная матрица\n",
    "need_columns = ['energy', 'danceability', 'loudness', 'valence']\n",
    "correlation_matrix = df[need_columns].corr()\n",
    "print(correlation_matrix)\n",
    "px.imshow(correlation_matrix, range_color=[-1,1])\n"
   ]
  },
  {
   "cell_type": "markdown",
   "id": "0b1a5adc-b502-424f-a956-e9e592b1c2be",
   "metadata": {},
   "source": [
    "#### Сделайте общий вывод о том, зависит ли настроение трека (Valence) от проанализированных параметров:\n",
    "**Результат**: Текстовый ответ на вопрос.\n",
    "\n",
    "*YOUR ANSWER HERE*\n",
    "Да, зависит, так как проанализировав корреляционную матрицу, можно увидеть что все коэффициенты корреляции >0 -> полная положительная корреляция"
   ]
  },
  {
   "cell_type": "markdown",
   "id": "c7f666b8-1fd4-4205-8aff-03c0f239b186",
   "metadata": {},
   "source": [
    "### 2. С годами музыка становится дольше или быстрее?\n",
    "\n",
    "**Результат**: Код, реализующий графики:\n",
    "\n",
    "- Зависимость средней продолжительности трека от года, с линией тренда\n",
    "- Изменение средней продолжительности топ-5 самых длинных треков года\n",
    "- Изменение средней продолжительности топ-5 самых коротких треков года\n",
    "\n",
    "Каждый график должен иметь название, подписанные оси и, при необходимости, легенду."
   ]
  },
  {
   "cell_type": "code",
   "execution_count": 106,
   "id": "9eaa3217-6919-41ed-b9f3-3adc0b751a7d",
   "metadata": {},
   "outputs": [
    {
     "name": "stdout",
     "output_type": "stream",
     "text": [
      "<class 'pandas.core.series.Series'>\n"
     ]
    },
    {
     "data": {
      "text/plain": [
       "\"head_average_duration_a_year = df.groupby('year').apply(lambda i: i.nlargest(5, 'duration_ms'))\\nhead_average_duration_a_year\\ndf_head = pd.DataFrame(head_average_duration_a_year.values, columns=head_average_duration_a_year.columns, index=head_average_duration_a_year.index)\\ndf_head\\ndatahead = pd.DataFrame(head_average).reset_index()\\ntail_average_duration_a_year = df.groupby('year').apply(lambda i: i.nsmallest(5, 'duration_ms'))\\ntail_average = tail_average_duration_a_year.groupby('year')['duration_ms'].mean()\\ndatahead = pd.DataFrame(head_average).reset_index()\\n\""
      ]
     },
     "execution_count": 106,
     "metadata": {},
     "output_type": "execute_result"
    }
   ],
   "source": [
    "# YOUR CODE HERE\n",
    "#1\n",
    "average_duration = df.groupby('year')['duration_ms'].mean()\n",
    "print(type(average_duration))\n",
    "data = pd.DataFrame(average_duration).reset_index()\n",
    "fig = px.scatter(data, x=\"year\", y=\"duration_ms\", trendline=\"ewm\", trendline_options=dict(halflife=2))\n",
    "fig.update_layout(\n",
    "    title=\"Изменение средней продолжительности трека от года\",\n",
    "    xaxis_title=\"years\",\n",
    "    yaxis_title=\"average duration\"\n",
    "    )\n",
    "\n",
    "#2\n",
    "'''head_average_duration_a_year = df.groupby('year').apply(lambda i: i.nlargest(5, 'duration_ms'))\n",
    "head_average_duration_a_year\n",
    "df_head = pd.DataFrame(head_average_duration_a_year.values, columns=head_average_duration_a_year.columns, index=head_average_duration_a_year.index)\n",
    "df_head\n",
    "datahead = pd.DataFrame(head_average).reset_index()\n",
    "tail_average_duration_a_year = df.groupby('year').apply(lambda i: i.nsmallest(5, 'duration_ms'))\n",
    "tail_average = tail_average_duration_a_year.groupby('year')['duration_ms'].mean()\n",
    "datahead = pd.DataFrame(head_average).reset_index()\n",
    "'''\n"
   ]
  },
  {
   "cell_type": "markdown",
   "id": "237490a9-ec02-4291-ac53-0c57fff45194",
   "metadata": {},
   "source": [
    "### 3. Как менялись популярные жанры от 2000 от 2023? \n",
    "\n",
    "**Результат**: Код, реализующий график:\n",
    "- 3 самых популярных по среднему значению жанра каждого года, с подписью значений\n",
    "\n",
    "График должен иметь название, подписанные оси и подпись значений\n",
    "\n",
    "**Дополнительно**: Текстовый ответ, какие жанры оказывались в топ-3 чаще всего."
   ]
  },
  {
   "cell_type": "code",
   "execution_count": 107,
   "id": "af935e25-3c4f-4b63-af19-2843b0a1b506",
   "metadata": {},
   "outputs": [],
   "source": [
    "# YOUR CODE HERE"
   ]
  },
  {
   "cell_type": "markdown",
   "id": "14ef53bd-02bd-4507-8774-4c969a78d731",
   "metadata": {},
   "source": [
    "### 4. Как связаны между собой Speechiness, Acousticness и Instrumentalness?\n",
    "\n",
    "**Результат**: Код, реализующий 2 различных по типу графика. Выбранные графики должны наиболее хорошо подходить для описания зависимости между указанными параметрами.\n",
    "\n",
    "Каждый график должен иметь название, подписанные оси и, при необходимости, легенду.\n",
    "\n",
    "**Дополнительно**: Текстовый ответ, почему были выбраны именно такие графики."
   ]
  },
  {
   "cell_type": "code",
   "execution_count": 108,
   "id": "50a0fe28-289c-4e9a-80f9-7d64ab4f360e",
   "metadata": {},
   "outputs": [],
   "source": [
    "# YOUR CODE HERE"
   ]
  },
  {
   "cell_type": "markdown",
   "id": "b1bfe0bd-ed3e-4069-9ec9-d8f1524f6536",
   "metadata": {},
   "source": [
    "### 5. Какое влияние размер и лад оказывают на популярность в разных жанрах?\n",
    "\n",
    "**Результат**: Код, реализующий фигуру:\n",
    "\n",
    "- Жанры для сравнения: deep-house, funk, forro, dancehall, house.\n",
    "- Точечный график для каждого жанра, отражающий среднюю популярность в зависимости от размера (time_signature) и лада (mode).\n",
    "\n",
    "Фигура должна иметь название и легенду, каждый график имеет подписанные оси и название."
   ]
  },
  {
   "cell_type": "code",
   "execution_count": 109,
   "id": "ef4994a5-1965-40f2-8bb1-f64af2351e1c",
   "metadata": {},
   "outputs": [],
   "source": [
    "# YOUR CODE HERE"
   ]
  },
  {
   "cell_type": "markdown",
   "id": "16b219fc-a536-4206-85fe-7659f660ce8f",
   "metadata": {},
   "source": [
    "### 6. Как выглядят графики плотности распределения, построенные для темпа по уникальным значениям размера трека? Как выглядят графики плотности нормальных распределений по этим данным?\n",
    "**Результат**: Код, реализующий графики распределения темпа (tempo) для всех уникальных значений размера трека (time_signature).\n",
    "\n",
    "Фигура должна иметь название и легенду. Плотности распределения должны быть построены либо на одном графике, либо на нескольких графиках, но в рамках одной фигуры. Плотности нормального распределения должны быть построены в одной на одном графике с плотностью распределения tempo.\n",
    "\n",
    "**Дополнительно**: Код с ответом на вопрос, какие параметры (среднее и разброс) для нормальных распределений темпа для размера трека."
   ]
  },
  {
   "cell_type": "code",
   "execution_count": 110,
   "id": "326d6f97-644d-4220-a6e6-4fa7145ac646",
   "metadata": {},
   "outputs": [],
   "source": [
    "# YOUR CODE HERE"
   ]
  },
  {
   "cell_type": "markdown",
   "id": "81f1b05f-59db-4e5d-bcdc-da9621b6eb5d",
   "metadata": {},
   "source": [
    "### 7. Проанализируйте популярность одного артиста (группы) с 10-100 треками на Ваш выбор. \n",
    "\n",
    "**Результат**: Код, реализующий следующие графики:\n",
    "\n",
    "- График, отражающий динамику суммарной популярности артиста год от года. Укажите стрелками с подписями, благодаря каким треками артист был на пике и на дне популярности.\n",
    "- Сопоставьте признаки для этих двух треков, в виде графиков на Ваш выбор. Укажите, какие из признаков вероятнее всего оказали наибольшее влияние на популярность выбранных треков.\n",
    "\n",
    "Графики должны находится в одной фигуре, имеющей название. Каждый график должен иметь название, подписанные оси и, при необходимости, легенду."
   ]
  },
  {
   "cell_type": "code",
   "execution_count": 111,
   "id": "89ea195c-37dc-4e0d-84ec-efc3f55a1c77",
   "metadata": {},
   "outputs": [],
   "source": [
    "# YOUR CODE HERE"
   ]
  }
 ],
 "metadata": {
  "kernelspec": {
   "display_name": "base",
   "language": "python",
   "name": "python3"
  },
  "language_info": {
   "codemirror_mode": {
    "name": "ipython",
    "version": 3
   },
   "file_extension": ".py",
   "mimetype": "text/x-python",
   "name": "python",
   "nbconvert_exporter": "python",
   "pygments_lexer": "ipython3",
   "version": "3.12.4"
  }
 },
 "nbformat": 4,
 "nbformat_minor": 5
}
